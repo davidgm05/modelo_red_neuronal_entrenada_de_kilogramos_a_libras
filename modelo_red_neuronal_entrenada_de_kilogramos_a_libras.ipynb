{
  "nbformat": 4,
  "nbformat_minor": 0,
  "metadata": {
    "colab": {
      "provenance": [],
      "authorship_tag": "ABX9TyNJByY5nZnCRTjozQk8pLhl",
      "include_colab_link": true
    },
    "kernelspec": {
      "name": "python3",
      "display_name": "Python 3"
    },
    "language_info": {
      "name": "python"
    }
  },
  "cells": [
    {
      "cell_type": "markdown",
      "metadata": {
        "id": "view-in-github",
        "colab_type": "text"
      },
      "source": [
        "<a href=\"https://colab.research.google.com/github/davidgm05/modelo_red_neuronal_entrenada_de_kilogramos_a_libras/blob/develop/modelo_red_neuronal_entrenada_de_kilogramos_a_libras.ipynb\" target=\"_parent\"><img src=\"https://colab.research.google.com/assets/colab-badge.svg\" alt=\"Open In Colab\"/></a>"
      ]
    },
    {
      "cell_type": "code",
      "execution_count": 2,
      "metadata": {
        "id": "ivwn_jJPwH3z"
      },
      "outputs": [],
      "source": [
        "import tensorflow as tf"
      ]
    },
    {
      "cell_type": "code",
      "source": [
        "import numpy as np"
      ],
      "metadata": {
        "id": "r5OQU83ywXqF"
      },
      "execution_count": 3,
      "outputs": []
    },
    {
      "cell_type": "markdown",
      "source": [],
      "metadata": {
        "id": "XmEl7kv7xSGC"
      }
    },
    {
      "cell_type": "code",
      "source": [
        "kilogramos = np.array([1, 24, 40, 56, 68, 90], dtype=float)\n",
        "libras = np.array([2.2, 52.9, 88.1, 123.4, 149.9, 198.4], dtype=float)"
      ],
      "metadata": {
        "id": "Pc1m4AYlweSg"
      },
      "execution_count": 4,
      "outputs": []
    },
    {
      "cell_type": "code",
      "source": [
        "capa = tf.keras.layers.Dense(units=1, input_shape=[1])\n",
        "modelo = tf.keras.Sequential([capa])"
      ],
      "metadata": {
        "id": "SSZjhPXPx7I9"
      },
      "execution_count": 9,
      "outputs": []
    },
    {
      "cell_type": "code",
      "source": [
        "modelo.compile(\n",
        "    optimizer=tf.keras.optimizers.Adam(0.1),\n",
        "    loss='mean_squared_error'\n",
        ")"
      ],
      "metadata": {
        "id": "EuaIxFn5ykFF"
      },
      "execution_count": 11,
      "outputs": []
    },
    {
      "cell_type": "markdown",
      "source": [],
      "metadata": {
        "id": "0Vul9G9wxSjn"
      }
    },
    {
      "cell_type": "code",
      "source": [
        "print(\"comenzar entrenamiento\")\n",
        "historial = modelo.fit(kilogramos, libras, epochs=800, verbose=False)\n",
        "print(\"entrenamiento terminado\")\n"
      ],
      "metadata": {
        "colab": {
          "base_uri": "https://localhost:8080/"
        },
        "id": "UCwE9WNuzKpS",
        "outputId": "69c79ca6-ee34-44c1-8f69-28a11d83601f"
      },
      "execution_count": 12,
      "outputs": [
        {
          "output_type": "stream",
          "name": "stdout",
          "text": [
            "comenzar entrenamiento\n",
            "entrenamiento terminado\n"
          ]
        }
      ]
    },
    {
      "cell_type": "code",
      "source": [
        "import matplotlib.pyplot as plt\n",
        "plt.xlabel(\"# Epoca\")\n",
        "plt.ylabel(\"Magnitud de perdida\")\n",
        "plt.plot(historial.history[\"loss\"])"
      ],
      "metadata": {
        "colab": {
          "base_uri": "https://localhost:8080/",
          "height": 466
        },
        "id": "Th5QHPYvz-cZ",
        "outputId": "4809c5c2-9f1d-4f8e-8587-7ae5d43bb14a"
      },
      "execution_count": 16,
      "outputs": [
        {
          "output_type": "execute_result",
          "data": {
            "text/plain": [
              "[<matplotlib.lines.Line2D at 0x7a432c4b31c0>]"
            ]
          },
          "metadata": {},
          "execution_count": 16
        },
        {
          "output_type": "display_data",
          "data": {
            "text/plain": [
              "<Figure size 640x480 with 1 Axes>"
            ],
            "image/png": "[encoded data removed]"
          },
          "metadata": {}
        }
      ]
    },
    {
      "cell_type": "code",
      "source": [
        "resultado = modelo.predict([30.0])\n",
        "print(str(resultado))"
      ],
      "metadata": {
        "colab": {
          "base_uri": "https://localhost:8080/"
        },
        "id": "JV4pzLQ01LTz",
        "outputId": "0b4d2e3c-aaa2-4f1c-b458-292adf1f110b"
      },
      "execution_count": 17,
      "outputs": [
        {
          "output_type": "stream",
          "name": "stdout",
          "text": [
            "1/1 [==============================] - 0s 156ms/step\n",
            "[[66.693115]]\n"
          ]
        }
      ]
    }
  ]
}